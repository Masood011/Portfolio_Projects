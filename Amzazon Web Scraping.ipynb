{
 "cells": [
  {
   "cell_type": "code",
   "execution_count": null,
   "id": "9bcdb2ee-0262-4623-a0be-a373ffdf5c8c",
   "metadata": {},
   "outputs": [],
   "source": []
  },
  {
   "cell_type": "code",
   "execution_count": 5,
   "id": "867a9dbd-f4cb-4f4e-8f2d-eb8533336fed",
   "metadata": {},
   "outputs": [],
   "source": [
    "#import libraries\n",
    "from bs4 import BeautifulSoup\n",
    "import requests\n",
    "import time\n",
    "import datetime\n",
    "\n",
    "import smtplib"
   ]
  },
  {
   "cell_type": "code",
   "execution_count": 6,
   "id": "14d4ea4b-dccd-49b1-8834-928090a3fabf",
   "metadata": {},
   "outputs": [
    {
     "name": "stdout",
     "output_type": "stream",
     "text": [
      "\n",
      "                    Heavy Thick Flannel Plaid Jacket Sherpa Fleece Lined Hoodies for Men Zip Up Winter Warm Coat Buffalo Zipper Sweatshirt\n",
      "                   \n",
      "\n",
      "\n",
      "\n",
      "\n",
      "                      $49.99 with 9 percent savings\n",
      "                     \n",
      "\n",
      "                      -9%\n",
      "                     \n",
      "\n",
      "\n",
      "\n",
      "\n",
      "\n",
      "                        $\n",
      "                       \n",
      "\n",
      "                        49\n",
      "                        \n",
      "                         .\n",
      "                        \n",
      "\n",
      "\n",
      "                        99\n",
      "                       \n",
      "\n",
      "\n",
      "\n",
      "\n",
      "\n",
      "\n",
      "\n",
      "\n",
      "\n",
      "                        List Price: $54.99\n",
      "                       \n",
      "\n",
      "                        List Price:\n",
      "                        \n",
      "\n",
      "                          $54.99\n",
      "                         \n",
      "\n",
      "                          $54.99\n",
      "                         \n",
      "\n",
      "\n",
      "\n",
      "\n",
      "\n",
      "\n",
      "\n",
      "\n",
      "\n",
      "\n",
      "\n",
      "\n",
      "\n",
      "\n",
      "\n",
      "\n",
      "\n",
      "                          The List Price is the suggested retail price of a new product as provided by a manufacturer, supplier, or seller. Except for books, Amazon will display a List Price if the product was purchased by customers on Amazon or offered by other retailers at or above the List Price in at least the past 90 days. List prices may not necessarily reflect the product's prevailing market price.\n",
      "                          \n",
      "\n",
      "                            Learn more\n",
      "                           \n",
      "\n",
      "\n",
      "\n",
      "\n",
      "\n",
      "\n",
      "\n",
      "\n",
      "\n"
     ]
    }
   ],
   "source": [
    "# Connect to Website\n",
    "\n",
    "URL = \"https://www.amazon.com/Flannel-Jacket-Hoodies-Buffalo-Sweatshirt/dp/B0BCL3BTQD/ref=sr_1_21_sspa?crid=1D824ZYJY39RX&dib=eyJ2IjoiMSJ9.d1zoPadfVIwNcsc83A7JGLFiA_lHbczrYNzqYHyDfVZf5c6LCXLjNwLvtHxSnBMJmMNJf8R7ecaQkOvs33NkAk7LcBg0_Okf8H6WiVMeXAkBBrvpGHIYGjJynb8QaVduJlcyJU5owgE9t1Dm_9gEsh9XW2qoyNpG-uemkoLOV6AhL_HTm6ek0p5Q5ySDUCbr6Tv1lP0apcO8axtE5ryWkTqjn3umFyV4YJcLstBRvZni53Hh5753RRCA8ZlMjOeE6RbO0EeKK9CIVbePs3kFvMtgam4kCnUM6MOsd_70tmM.x7jKuO27Nrq0hdg2TF8xTLRUMv2VSPp4TuPi3y6LmFc&dib_tag=se&keywords=hoodies+for+men&qid=1731809881&sprefix=hoodie%2Caps%2C103&sr=8-21-spons&sp_csd=d2lkZ2V0TmFtZT1zcF9tdGY&psc=1\"\n",
    "\n",
    "headers = {\"User-Agent\": \"Mozilla/5.0 (Windows NT 10.0; Win64; x64) AppleWebKit/537.36 (KHTML, like Gecko) Chrome/131.0.0.0 Safari/537.36\", \"Accept\": \"text/html,application/xhtml+xml,application/xml;q=0.9,image/avif,image/webp,image/apng,*/*;q=0.8,application/signed-exchange;v=b3;q=0.7\", \"Accept-Encoding\": \"gzip, deflate, br, zstd\", \"Accept-Language\": \"en-US,en;q=0.9\", }\n",
    "\n",
    "page = requests.get(URL, headers = headers)\n",
    "\n",
    "soup1 = BeautifulSoup(page.content, \"html.parser\")\n",
    "\n",
    "soup2 = BeautifulSoup(soup1.prettify(), \"html.parser\")\n",
    "\n",
    "title = soup2.find(id = 'productTitle').get_text()\n",
    "\n",
    "price = soup2.find(id = \"corePriceDisplay_desktop_feature_div\").get_text()\n",
    "\n",
    "print(title)\n",
    "print(price)\n"
   ]
  },
  {
   "cell_type": "code",
   "execution_count": 7,
   "id": "7f08fe18-76ac-4ca6-8e1f-0ef1a4f3593f",
   "metadata": {},
   "outputs": [
    {
     "name": "stdout",
     "output_type": "stream",
     "text": [
      "Heavy Thick Flannel Plaid Jacket Sherpa Fleece Lined Hoodies for Men Zip Up Winter Warm Coat Buffalo Zipper Sweatshirt\n",
      "$49.99\n"
     ]
    }
   ],
   "source": [
    "price = price.strip()[0:6]\n",
    "title = title.strip()\n",
    "print(title)\n",
    "print(price)"
   ]
  },
  {
   "cell_type": "code",
   "execution_count": 9,
   "id": "3fedd5ad-47b9-435d-ace6-c0abbb5eaec0",
   "metadata": {},
   "outputs": [
    {
     "name": "stdout",
     "output_type": "stream",
     "text": [
      "2024-11-17\n"
     ]
    }
   ],
   "source": [
    "import datetime\n",
    "\n",
    "today = datetime.date.today()\n",
    "\n",
    "print(today)"
   ]
  },
  {
   "cell_type": "code",
   "execution_count": 10,
   "id": "896fcdc4-9dec-4c38-94dd-19805170ac4b",
   "metadata": {},
   "outputs": [],
   "source": [
    "import csv\n",
    "\n",
    "header = ['Title', 'Price','Date']\n",
    "data = [title, price, today]\n",
    "\n",
    "with open('AWScrapingDataset.csv','w', newline='', encoding='UTF8') as f: \n",
    "    writer = csv.writer(f)\n",
    "    writer.writerow(header)\n",
    "    writer.writerow(data)"
   ]
  },
  {
   "cell_type": "code",
   "execution_count": 11,
   "id": "288a4e89-6bc1-4e6c-b60b-3c2376573463",
   "metadata": {},
   "outputs": [
    {
     "name": "stdout",
     "output_type": "stream",
     "text": [
      "                                               Title   Price        Date\n",
      "0  Heavy Thick Flannel Plaid Jacket Sherpa Fleece...  $49.99  2024-11-17\n"
     ]
    }
   ],
   "source": [
    "import pandas as pd\n",
    "df = pd.read_csv(r\"C:\\Users\\Mohammed Masood\\OneDrive\\Documents\\Python Projects\\AWScrapingDataset.csv\")\n",
    "\n",
    "print(df)"
   ]
  },
  {
   "cell_type": "code",
   "execution_count": 15,
   "id": "79a94854-30ff-495d-a29e-c9d6fc0c1b6c",
   "metadata": {},
   "outputs": [],
   "source": [
    "# Appending data to the csv\n",
    "\n",
    "with open('AWScrapingDataset.csv','a', newline='', encoding='UTF8') as f: \n",
    "    writer = csv.writer(f)\n",
    "    writer.writerow(data)"
   ]
  },
  {
   "cell_type": "code",
   "execution_count": 17,
   "id": "dc7a4c98-8b09-46fa-b2d7-18beb5fa669b",
   "metadata": {},
   "outputs": [],
   "source": [
    "def check_price():\n",
    "    URL = \"https://www.amazon.com/Flannel-Jacket-Hoodies-Buffalo-Sweatshirt/dp/B0BCL3BTQD/ref=sr_1_21_sspa?crid=1D824ZYJY39RX&dib=eyJ2IjoiMSJ9.d1zoPadfVIwNcsc83A7JGLFiA_lHbczrYNzqYHyDfVZf5c6LCXLjNwLvtHxSnBMJmMNJf8R7ecaQkOvs33NkAk7LcBg0_Okf8H6WiVMeXAkBBrvpGHIYGjJynb8QaVduJlcyJU5owgE9t1Dm_9gEsh9XW2qoyNpG-uemkoLOV6AhL_HTm6ek0p5Q5ySDUCbr6Tv1lP0apcO8axtE5ryWkTqjn3umFyV4YJcLstBRvZni53Hh5753RRCA8ZlMjOeE6RbO0EeKK9CIVbePs3kFvMtgam4kCnUM6MOsd_70tmM.x7jKuO27Nrq0hdg2TF8xTLRUMv2VSPp4TuPi3y6LmFc&dib_tag=se&keywords=hoodies+for+men&qid=1731809881&sprefix=hoodie%2Caps%2C103&sr=8-21-spons&sp_csd=d2lkZ2V0TmFtZT1zcF9tdGY&psc=1\"\n",
    "    \n",
    "    headers = {\"User-Agent\": \"Mozilla/5.0 (Windows NT 10.0; Win64; x64) AppleWebKit/537.36 (KHTML, like Gecko) Chrome/131.0.0.0 Safari/537.36\", \"Accept\": \"text/html,application/xhtml+xml,application/xml;q=0.9,image/avif,image/webp,image/apng,*/*;q=0.8,application/signed-exchange;v=b3;q=0.7\", \"Accept-Encoding\": \"gzip, deflate, br, zstd\", \"Accept-Language\": \"en-US,en;q=0.9\", }\n",
    "    \n",
    "    page = requests.get(URL, headers = headers)\n",
    "    \n",
    "    soup1 = BeautifulSoup(page.content, \"html.parser\")\n",
    "    \n",
    "    soup2 = BeautifulSoup(soup1.prettify(), \"html.parser\")\n",
    "    \n",
    "    title = soup2.find(id = 'productTitle').get_text()\n",
    "    \n",
    "    price = soup2.find(id = \"corePriceDisplay_desktop_feature_div\").get_text()\n",
    "    \n",
    "    price = price.strip()[0:6]\n",
    "    title = title.strip()\n",
    "    import datetime\n",
    "\n",
    "    today = datetime.date.today()\n",
    "\n",
    "    print(today)\n",
    "\n",
    "    import csv\n",
    "\n",
    "    header = ['Title', 'Price','Date']\n",
    "    data = [title, price, today]\n",
    "    \n",
    "    with open('AWScrapingDataset.csv','a', newline='', encoding='UTF8') as f: \n",
    "        writer = csv.writer(f)\n",
    "        writer.writerow(data)\n",
    "    print(f\"Scraped Data - Title: {title}, Price: {price}, Date: {today}\")\n"
   ]
  },
  {
   "cell_type": "code",
   "execution_count": 19,
   "id": "23e8662d-2cbc-449e-b7f0-7acf6a31145c",
   "metadata": {},
   "outputs": [
    {
     "name": "stdout",
     "output_type": "stream",
     "text": [
      "2024-11-17\n",
      "Scraped Data - Title: Heavy Thick Flannel Plaid Jacket Sherpa Fleece Lined Hoodies for Men Zip Up Winter Warm Coat Buffalo Zipper Sweatshirt, Price: $49.99, Date: 2024-11-17\n",
      "2024-11-17\n",
      "Scraped Data - Title: Heavy Thick Flannel Plaid Jacket Sherpa Fleece Lined Hoodies for Men Zip Up Winter Warm Coat Buffalo Zipper Sweatshirt, Price: $49.99, Date: 2024-11-17\n",
      "2024-11-17\n",
      "Scraped Data - Title: Heavy Thick Flannel Plaid Jacket Sherpa Fleece Lined Hoodies for Men Zip Up Winter Warm Coat Buffalo Zipper Sweatshirt, Price: $49.99, Date: 2024-11-17\n",
      "2024-11-17\n",
      "Scraped Data - Title: Heavy Thick Flannel Plaid Jacket Sherpa Fleece Lined Hoodies for Men Zip Up Winter Warm Coat Buffalo Zipper Sweatshirt, Price: $49.99, Date: 2024-11-17\n",
      "2024-11-17\n",
      "Scraped Data - Title: Heavy Thick Flannel Plaid Jacket Sherpa Fleece Lined Hoodies for Men Zip Up Winter Warm Coat Buffalo Zipper Sweatshirt, Price: $49.99, Date: 2024-11-17\n",
      "2024-11-17\n",
      "Scraped Data - Title: Heavy Thick Flannel Plaid Jacket Sherpa Fleece Lined Hoodies for Men Zip Up Winter Warm Coat Buffalo Zipper Sweatshirt, Price: $49.99, Date: 2024-11-17\n",
      "2024-11-17\n",
      "Scraped Data - Title: Heavy Thick Flannel Plaid Jacket Sherpa Fleece Lined Hoodies for Men Zip Up Winter Warm Coat Buffalo Zipper Sweatshirt, Price: $49.99, Date: 2024-11-17\n",
      "2024-11-17\n",
      "Scraped Data - Title: Heavy Thick Flannel Plaid Jacket Sherpa Fleece Lined Hoodies for Men Zip Up Winter Warm Coat Buffalo Zipper Sweatshirt, Price: $49.99, Date: 2024-11-17\n",
      "2024-11-17\n",
      "Scraped Data - Title: Heavy Thick Flannel Plaid Jacket Sherpa Fleece Lined Hoodies for Men Zip Up Winter Warm Coat Buffalo Zipper Sweatshirt, Price: $49.99, Date: 2024-11-17\n",
      "2024-11-17\n",
      "Scraped Data - Title: Heavy Thick Flannel Plaid Jacket Sherpa Fleece Lined Hoodies for Men Zip Up Winter Warm Coat Buffalo Zipper Sweatshirt, Price: $49.99, Date: 2024-11-17\n",
      "2024-11-17\n",
      "Scraped Data - Title: Heavy Thick Flannel Plaid Jacket Sherpa Fleece Lined Hoodies for Men Zip Up Winter Warm Coat Buffalo Zipper Sweatshirt, Price: $49.99, Date: 2024-11-17\n",
      "2024-11-17\n",
      "Scraped Data - Title: Heavy Thick Flannel Plaid Jacket Sherpa Fleece Lined Hoodies for Men Zip Up Winter Warm Coat Buffalo Zipper Sweatshirt, Price: $49.99, Date: 2024-11-17\n",
      "2024-11-17\n",
      "Scraped Data - Title: Heavy Thick Flannel Plaid Jacket Sherpa Fleece Lined Hoodies for Men Zip Up Winter Warm Coat Buffalo Zipper Sweatshirt, Price: $49.99, Date: 2024-11-17\n",
      "2024-11-17\n",
      "Scraped Data - Title: Heavy Thick Flannel Plaid Jacket Sherpa Fleece Lined Hoodies for Men Zip Up Winter Warm Coat Buffalo Zipper Sweatshirt, Price: $49.99, Date: 2024-11-17\n",
      "2024-11-17\n",
      "Scraped Data - Title: Heavy Thick Flannel Plaid Jacket Sherpa Fleece Lined Hoodies for Men Zip Up Winter Warm Coat Buffalo Zipper Sweatshirt, Price: $49.99, Date: 2024-11-17\n",
      "2024-11-17\n",
      "Scraped Data - Title: Heavy Thick Flannel Plaid Jacket Sherpa Fleece Lined Hoodies for Men Zip Up Winter Warm Coat Buffalo Zipper Sweatshirt, Price: $49.99, Date: 2024-11-17\n",
      "2024-11-17\n",
      "Scraped Data - Title: Heavy Thick Flannel Plaid Jacket Sherpa Fleece Lined Hoodies for Men Zip Up Winter Warm Coat Buffalo Zipper Sweatshirt, Price: $49.99, Date: 2024-11-17\n",
      "2024-11-17\n",
      "Scraped Data - Title: Heavy Thick Flannel Plaid Jacket Sherpa Fleece Lined Hoodies for Men Zip Up Winter Warm Coat Buffalo Zipper Sweatshirt, Price: $49.99, Date: 2024-11-17\n",
      "2024-11-17\n",
      "Scraped Data - Title: Heavy Thick Flannel Plaid Jacket Sherpa Fleece Lined Hoodies for Men Zip Up Winter Warm Coat Buffalo Zipper Sweatshirt, Price: $49.99, Date: 2024-11-17\n",
      "2024-11-17\n",
      "Scraped Data - Title: Heavy Thick Flannel Plaid Jacket Sherpa Fleece Lined Hoodies for Men Zip Up Winter Warm Coat Buffalo Zipper Sweatshirt, Price: $49.99, Date: 2024-11-17\n",
      "2024-11-17\n",
      "Scraped Data - Title: Heavy Thick Flannel Plaid Jacket Sherpa Fleece Lined Hoodies for Men Zip Up Winter Warm Coat Buffalo Zipper Sweatshirt, Price: $49.99, Date: 2024-11-17\n",
      "2024-11-17\n",
      "Scraped Data - Title: Heavy Thick Flannel Plaid Jacket Sherpa Fleece Lined Hoodies for Men Zip Up Winter Warm Coat Buffalo Zipper Sweatshirt, Price: $49.99, Date: 2024-11-17\n",
      "2024-11-17\n",
      "Scraped Data - Title: Heavy Thick Flannel Plaid Jacket Sherpa Fleece Lined Hoodies for Men Zip Up Winter Warm Coat Buffalo Zipper Sweatshirt, Price: $49.99, Date: 2024-11-17\n",
      "2024-11-17\n",
      "Scraped Data - Title: Heavy Thick Flannel Plaid Jacket Sherpa Fleece Lined Hoodies for Men Zip Up Winter Warm Coat Buffalo Zipper Sweatshirt, Price: $49.99, Date: 2024-11-17\n",
      "2024-11-17\n",
      "Scraped Data - Title: Heavy Thick Flannel Plaid Jacket Sherpa Fleece Lined Hoodies for Men Zip Up Winter Warm Coat Buffalo Zipper Sweatshirt, Price: $49.99, Date: 2024-11-17\n",
      "2024-11-17\n",
      "Scraped Data - Title: Heavy Thick Flannel Plaid Jacket Sherpa Fleece Lined Hoodies for Men Zip Up Winter Warm Coat Buffalo Zipper Sweatshirt, Price: $49.99, Date: 2024-11-17\n",
      "2024-11-17\n",
      "Scraped Data - Title: Heavy Thick Flannel Plaid Jacket Sherpa Fleece Lined Hoodies for Men Zip Up Winter Warm Coat Buffalo Zipper Sweatshirt, Price: $49.99, Date: 2024-11-17\n",
      "2024-11-17\n",
      "Scraped Data - Title: Heavy Thick Flannel Plaid Jacket Sherpa Fleece Lined Hoodies for Men Zip Up Winter Warm Coat Buffalo Zipper Sweatshirt, Price: $49.99, Date: 2024-11-17\n",
      "2024-11-17\n",
      "Scraped Data - Title: Heavy Thick Flannel Plaid Jacket Sherpa Fleece Lined Hoodies for Men Zip Up Winter Warm Coat Buffalo Zipper Sweatshirt, Price: $49.99, Date: 2024-11-17\n",
      "2024-11-17\n",
      "Scraped Data - Title: Heavy Thick Flannel Plaid Jacket Sherpa Fleece Lined Hoodies for Men Zip Up Winter Warm Coat Buffalo Zipper Sweatshirt, Price: $49.99, Date: 2024-11-17\n",
      "2024-11-17\n",
      "Scraped Data - Title: Heavy Thick Flannel Plaid Jacket Sherpa Fleece Lined Hoodies for Men Zip Up Winter Warm Coat Buffalo Zipper Sweatshirt, Price: $49.99, Date: 2024-11-17\n"
     ]
    },
    {
     "ename": "KeyboardInterrupt",
     "evalue": "",
     "output_type": "error",
     "traceback": [
      "\u001b[1;31m---------------------------------------------------------------------------\u001b[0m",
      "\u001b[1;31mKeyboardInterrupt\u001b[0m                         Traceback (most recent call last)",
      "Cell \u001b[1;32mIn[19], line 3\u001b[0m\n\u001b[0;32m      1\u001b[0m \u001b[38;5;28;01mwhile\u001b[39;00m(\u001b[38;5;28;01mTrue\u001b[39;00m):\n\u001b[0;32m      2\u001b[0m     check_price()\n\u001b[1;32m----> 3\u001b[0m     time\u001b[38;5;241m.\u001b[39msleep(\u001b[38;5;241m5\u001b[39m)\n",
      "\u001b[1;31mKeyboardInterrupt\u001b[0m: "
     ]
    }
   ],
   "source": [
    "while(True):\n",
    "    check_price()\n",
    "    time.sleep(5)"
   ]
  },
  {
   "cell_type": "code",
   "execution_count": null,
   "id": "39b85e29-6105-43ba-9cdc-ed818e284584",
   "metadata": {},
   "outputs": [],
   "source": []
  }
 ],
 "metadata": {
  "kernelspec": {
   "display_name": "Python 3 (ipykernel)",
   "language": "python",
   "name": "python3"
  },
  "language_info": {
   "codemirror_mode": {
    "name": "ipython",
    "version": 3
   },
   "file_extension": ".py",
   "mimetype": "text/x-python",
   "name": "python",
   "nbconvert_exporter": "python",
   "pygments_lexer": "ipython3",
   "version": "3.12.7"
  }
 },
 "nbformat": 4,
 "nbformat_minor": 5
}
